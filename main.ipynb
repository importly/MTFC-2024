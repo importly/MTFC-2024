{
 "cells": [
  {
   "cell_type": "code",
   "outputs": [],
   "source": [
    "from transformers import BertTokenizer\n",
    "from model import BertForMultiLabelClassification\n",
    "from multilabel_pipeline import MultiLabelPipeline\n",
    "from pprint import pprint\n",
    "from colorama import init, Fore, Back, Style\n",
    "from pandas._libs.internals import defaultdict\n",
    "import pandas as pd\n",
    "\n",
    "init(autoreset=True)  # Ensure colors reset automatically\n",
    "\n",
    "tokenizer = BertTokenizer.from_pretrained(\"monologg/bert-base-cased-goemotions-original\")\n",
    "model = BertForMultiLabelClassification.from_pretrained(\"monologg/bert-base-cased-goemotions-original\")\n",
    "\n",
    "name = \"US_foreign_policy_in_the_Middle_East1974-2024by3months\"\n",
    "\n",
    "go_emotions_pipe = MultiLabelPipeline(\n",
    "    model=model,\n",
    "    tokenizer=tokenizer,\n",
    "    threshold=0.3\n",
    ")"
   ],
   "metadata": {
    "collapsed": false,
    "ExecuteTime": {
     "end_time": "2024-03-03T20:47:26.549292Z",
     "start_time": "2024-03-03T20:47:24.063715Z"
    }
   },
   "id": "713d8feddaee4b0",
   "execution_count": 304
  },
  {
   "cell_type": "code",
   "outputs": [],
   "source": [
    "table = pd.read_csv(name+\".csv\")"
   ],
   "metadata": {
    "collapsed": false,
    "ExecuteTime": {
     "end_time": "2024-03-03T20:47:26.586387Z",
     "start_time": "2024-03-03T20:47:26.550136Z"
    }
   },
   "id": "98e680df397b16e9",
   "execution_count": 305
  },
  {
   "cell_type": "code",
   "outputs": [],
   "source": [],
   "metadata": {
    "collapsed": false,
    "ExecuteTime": {
     "end_time": "2024-03-03T20:47:26.588537Z",
     "start_time": "2024-03-03T20:47:26.587305Z"
    }
   },
   "id": "c56a20175ad9aecb",
   "execution_count": 305
  },
  {
   "cell_type": "code",
   "outputs": [],
   "source": [
    "def chunk_text(text, max_length=511):\n",
    "    tokens = tokenizer.tokenize(text)\n",
    "    token_ids = tokenizer.convert_tokens_to_ids(tokens)\n",
    "    \n",
    "    chunks = []\n",
    "    current_chunk = []\n",
    "    current_length = 0\n",
    "    \n",
    "    for word, word_id in zip(tokens, token_ids):\n",
    "        current_chunk.append(word)\n",
    "        current_length += 1\n",
    "        \n",
    "        if current_length == max_length:\n",
    "            chunks.append(tokenizer.convert_tokens_to_string(current_chunk))\n",
    "            current_chunk = []\n",
    "            current_length = 0\n",
    "    \n",
    "    if len(current_chunk) != 0:\n",
    "        chunks.append(tokenizer.convert_tokens_to_string(current_chunk))\n",
    "    return chunks\n"
   ],
   "metadata": {
    "collapsed": false,
    "ExecuteTime": {
     "end_time": "2024-03-03T20:47:26.592682Z",
     "start_time": "2024-03-03T20:47:26.589561Z"
    }
   },
   "id": "a1035415431bc24a",
   "execution_count": 306
  },
  {
   "cell_type": "code",
   "outputs": [],
   "source": [
    "chuck_length = 32\n",
    "# Process each text\n",
    "def getScores(text):\n",
    "    # print(f\"Processing text: \"+Fore.GREEN+f\"{text[:50]}\")\n",
    "    chunks = chunk_text(text, max_length=chuck_length)\n",
    "    \n",
    "    aggregated_outputs = []\n",
    "    for chunk in chunks:\n",
    "        outputs = go_emotions_pipe([chunk])\n",
    "        outputs[0][\"scores\"] = [float(score) for score in outputs[0][\"scores\"]]\n",
    "        \n",
    "        outputs = [{label: score for label, score in zip(item['labels'], item['scores'])} for item in outputs]\n",
    "    \n",
    "        aggregated_outputs.append(outputs)\n",
    "        \n",
    "    emotion_counts = defaultdict(int)\n",
    "    num_chunks = len(aggregated_outputs)\n",
    "\n",
    "    for chunk in aggregated_outputs:\n",
    "        for emotion_dict in chunk:\n",
    "            for emotion in emotion_dict:\n",
    "                emotion_counts[emotion] += 1\n",
    "    return { emotion : counts/num_chunks for (emotion, counts) in zip(emotion_counts.keys(), emotion_counts.values())}\n",
    "    "
   ],
   "metadata": {
    "collapsed": false,
    "ExecuteTime": {
     "end_time": "2024-03-03T20:47:26.608615Z",
     "start_time": "2024-03-03T20:47:26.593419Z"
    }
   },
   "id": "3aba92980f8bcacd",
   "execution_count": 307
  },
  {
   "cell_type": "code",
   "outputs": [],
   "source": [
    "for i, row in table.iterrows():\n",
    "    emotion_counts = getScores(row[\"content\"])\n",
    "    # print(emotion_counts)\n",
    "    for emotion in emotion_counts.keys():\n",
    "        table.loc[i, emotion] = emotion_counts[emotion]\n",
    "        # print(row)\n",
    "print(table.head(10))\n",
    "# print(table.head(10).columns)"
   ],
   "metadata": {
    "collapsed": false,
    "is_executing": true,
    "ExecuteTime": {
     "start_time": "2024-03-03T20:47:26.609382Z"
    }
   },
   "id": "e8cdc61cd24fa2bf",
   "execution_count": null
  },
  {
   "cell_type": "code",
   "outputs": [],
   "source": [
    "table.fillna(0.0, inplace=True)"
   ],
   "metadata": {
    "collapsed": false,
    "is_executing": true
   },
   "id": "7caa9c85eafc0dc2",
   "execution_count": null
  },
  {
   "cell_type": "code",
   "outputs": [],
   "source": [
    "table.to_csv(\"./data/\"+name +\"_scored.csv\")"
   ],
   "metadata": {
    "collapsed": false,
    "is_executing": true
   },
   "id": "d6f1198090d0b815",
   "execution_count": null
  }
 ],
 "metadata": {
  "kernelspec": {
   "display_name": "Python 3",
   "language": "python",
   "name": "python3"
  },
  "language_info": {
   "codemirror_mode": {
    "name": "ipython",
    "version": 2
   },
   "file_extension": ".py",
   "mimetype": "text/x-python",
   "name": "python",
   "nbconvert_exporter": "python",
   "pygments_lexer": "ipython2",
   "version": "2.7.6"
  }
 },
 "nbformat": 4,
 "nbformat_minor": 5
}
