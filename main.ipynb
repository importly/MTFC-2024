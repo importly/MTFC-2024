{
 "cells": [
  {
   "cell_type": "code",
   "outputs": [],
   "source": [
    "from transformers import BertTokenizer\n",
    "from model import BertForMultiLabelClassification\n",
    "from multilabel_pipeline import MultiLabelPipeline\n",
    "from pprint import pprint\n",
    "from colorama import init, Fore, Back, Style\n",
    "from pandas._libs.internals import defaultdict\n",
    "import pandas as pd\n",
    "\n",
    "init(autoreset=True)  # Ensure colors reset automatically\n",
    "\n",
    "tokenizer = BertTokenizer.from_pretrained(\"monologg/bert-base-cased-goemotions-original\")\n",
    "model = BertForMultiLabelClassification.from_pretrained(\"monologg/bert-base-cased-goemotions-original\")\n",
    "\n",
    "name = \"US_foreign_policy_in_the_Middle_East1974-2024by3months\"\n",
    "\n",
    "go_emotions_pipe = MultiLabelPipeline(\n",
    "    model=model,\n",
    "    tokenizer=tokenizer,\n",
    "    threshold=0.3\n",
    ")"
   ],
   "metadata": {
    "collapsed": false,
    "ExecuteTime": {
     "end_time": "2024-03-03T20:47:26.549292Z",
     "start_time": "2024-03-03T20:47:24.063715Z"
    }
   },
   "id": "713d8feddaee4b0",
   "execution_count": 304
  },
  {
   "cell_type": "code",
   "outputs": [],
   "source": [
    "table = pd.read_csv(name+\".csv\")"
   ],
   "metadata": {
    "collapsed": false,
    "ExecuteTime": {
     "end_time": "2024-03-03T20:47:26.586387Z",
     "start_time": "2024-03-03T20:47:26.550136Z"
    }
   },
   "id": "98e680df397b16e9",
   "execution_count": 305
  },
  {
   "cell_type": "code",
   "outputs": [],
   "source": [],
   "metadata": {
    "collapsed": false,
    "ExecuteTime": {
     "end_time": "2024-03-03T20:47:26.588537Z",
     "start_time": "2024-03-03T20:47:26.587305Z"
    }
   },
   "id": "c56a20175ad9aecb",
   "execution_count": 305
  },
  {
   "cell_type": "code",
   "outputs": [],
   "source": [
    "def chunk_text(text, max_length=511):\n",
    "    tokens = tokenizer.tokenize(text)\n",
    "    token_ids = tokenizer.convert_tokens_to_ids(tokens)\n",
    "    \n",
    "    chunks = []\n",
    "    current_chunk = []\n",
    "    current_length = 0\n",
    "    \n",
    "    for word, word_id in zip(tokens, token_ids):\n",
    "        current_chunk.append(word)\n",
    "        current_length += 1\n",
    "        \n",
    "        if current_length == max_length:\n",
    "            chunks.append(tokenizer.convert_tokens_to_string(current_chunk))\n",
    "            current_chunk = []\n",
    "            current_length = 0\n",
    "    \n",
    "    if len(current_chunk) != 0:\n",
    "        chunks.append(tokenizer.convert_tokens_to_string(current_chunk))\n",
    "    return chunks\n"
   ],
   "metadata": {
    "collapsed": false,
    "ExecuteTime": {
     "end_time": "2024-03-03T20:47:26.592682Z",
     "start_time": "2024-03-03T20:47:26.589561Z"
    }
   },
   "id": "a1035415431bc24a",
   "execution_count": 306
  },
  {
   "cell_type": "code",
   "outputs": [],
   "source": [
    "chuck_length = 32\n",
    "# Process each text\n",
    "def getScores(text):\n",
    "    # print(f\"Processing text: \"+Fore.GREEN+f\"{text[:50]}\")\n",
    "    chunks = chunk_text(text, max_length=chuck_length)\n",
    "    \n",
    "    aggregated_outputs = []\n",
    "    for chunk in chunks:\n",
    "        outputs = go_emotions_pipe([chunk])\n",
    "        outputs[0][\"scores\"] = [float(score) for score in outputs[0][\"scores\"]]\n",
    "        \n",
    "        outputs = [{label: score for label, score in zip(item['labels'], item['scores'])} for item in outputs]\n",
    "    \n",
    "        aggregated_outputs.append(outputs)\n",
    "        \n",
    "    emotion_counts = defaultdict(int)\n",
    "    num_chunks = len(aggregated_outputs)\n",
    "\n",
    "    for chunk in aggregated_outputs:\n",
    "        for emotion_dict in chunk:\n",
    "            for emotion in emotion_dict:\n",
    "                emotion_counts[emotion] += 1\n",
    "    return { emotion : counts/num_chunks for (emotion, counts) in zip(emotion_counts.keys(), emotion_counts.values())}\n",
    "    "
   ],
   "metadata": {
    "collapsed": false,
    "ExecuteTime": {
     "end_time": "2024-03-03T20:47:26.608615Z",
     "start_time": "2024-03-03T20:47:26.593419Z"
    }
   },
   "id": "3aba92980f8bcacd",
   "execution_count": 307
  },
  {
   "cell_type": "code",
   "outputs": [
    {
     "name": "stdout",
     "output_type": "stream",
     "text": [
      "   Unnamed: 0                                              title  \\\n",
      "0           0            America's Middle East Policy Has Failed   \n",
      "1           1  WATCH: What's Next for U.S. Policy in the Midd...   \n",
      "2           2  Timeline: Oil Dependence and U.S. Foreign Poli...   \n",
      "3           3  Book Launch | American Diplomacy Toward Lebano...   \n",
      "4           4  The End of De-Escalation in the Middle East? -...   \n",
      "5           5  Washington's Looming Middle Eastern Quagmire |...   \n",
      "6           6  Hearings | United States Senate Committee on F...   \n",
      "7           7                         Foreign Policy | Brookings   \n",
      "8           8              Brian Katulis | Middle East Institute   \n",
      "9           9  Testing Assumptions About US Foreign Policy in...   \n",
      "\n",
      "                                                link     date_range  \\\n",
      "0  https://foreignpolicy.com/2024/01/11/israel-ha...  202311-202311   \n",
      "1  https://ncafp.org/watch-whats-next-for-u-s-pol...  202311-202311   \n",
      "2  https://www.cfr.org/timeline/oil-dependence-an...  202311-202311   \n",
      "3  https://www.wilsoncenter.org/event/book-launch...  202311-202311   \n",
      "4  https://www.fpri.org/article/2023/11/the-end-o...  202311-202311   \n",
      "5  https://www.foreignaffairs.com/united-states/w...  202311-202311   \n",
      "6            https://www.foreign.senate.gov/hearings  202311-202311   \n",
      "7  https://www.brookings.edu/programs/foreign-pol...  202311-202311   \n",
      "8          https://www.mei.edu/profile/brian-katulis  202311-202311   \n",
      "9  https://www.stimson.org/2024/testing-assumptio...  202311-202311   \n",
      "\n",
      "                                             content  \\\n",
      "0  By using this website, you agree to our use of...   \n",
      "1  ncafp.org\\nVerifying you are human. This may t...   \n",
      "2  Skip to main content\\nCouncil on Foreign Relat...   \n",
      "3  Skip to main content\\nTOPICS\\nREGIONS\\nPROGRAM...   \n",
      "4  RESEARCH\\nEXPERTS\\nEVENTS\\nEDUCATION\\nABOUT\\nS...   \n",
      "5  Skip to main content\\nOpen Oveflow Menu\\nForei...   \n",
      "6  Skip to content\\nHome Logo Link\\n.cls-1{fill:#...   \n",
      "7  Home\\nSearch\\nForeign Policy\\nForeign Policy\\n...   \n",
      "8  Skip to main content\\nHome Brian Katulis\\nBria...   \n",
      "9  COMMENTARY\\nSecurity & Strategy\\nReimagining U...   \n",
      "\n",
      "                                             snippet   neutral  realization  \\\n",
      "0  Jan 11, 2024 ... Among the U.S. political elit...  0.914530     0.042735   \n",
      "1  Jan 23, 2024 ... Aaron David Miller, Senior Fe...  1.000000          NaN   \n",
      "2  Oil Dependence and U.S. Foreign Policy ... Tec...  0.915309     0.065147   \n",
      "3  Book Launch | American Diplomacy Toward Lebano...  0.958333          NaN   \n",
      "4  Nov 21, 2023 ... Israeli “collective punishmen...  0.936508     0.103175   \n",
      "5  Nov 24, 2023 ... The War in Gaza, American Ove...  0.880000     0.040000   \n",
      "6  TEHRAN'S SHADOW ARMY: ADDRESSING IRAN'S PROXY ...  1.000000          NaN   \n",
      "7  20044 results ... A newsletter on U.S. policy ...  0.952381          NaN   \n",
      "8  Brian Katulis is Senior Fellow for U.S. Foreig...  1.000000     0.041667   \n",
      "9  Jan 16, 2024 ... There are major questions fac...  0.846154     0.061538   \n",
      "\n",
      "   approval  optimism  ...  surprise       joy  excitement  pride  remorse  \\\n",
      "0  0.085470  0.068376  ...       NaN       NaN         NaN    NaN      NaN   \n",
      "1       NaN       NaN  ...       NaN       NaN         NaN    NaN      NaN   \n",
      "2  0.074919  0.035831  ...       NaN       NaN         NaN    NaN      NaN   \n",
      "3       NaN       NaN  ...       NaN       NaN         NaN    NaN      NaN   \n",
      "4  0.095238  0.023810  ...       NaN       NaN         NaN    NaN      NaN   \n",
      "5       NaN  0.040000  ...       NaN       NaN         NaN    NaN      NaN   \n",
      "6       NaN       NaN  ...       NaN       NaN         NaN    NaN      NaN   \n",
      "7       NaN  0.047619  ...       NaN       NaN         NaN    NaN      NaN   \n",
      "8  0.041667       NaN  ...  0.041667       NaN         NaN    NaN      NaN   \n",
      "9  0.112821  0.035897  ...  0.005128  0.005128         NaN    NaN      NaN   \n",
      "\n",
      "   love  amusement  relief  disgust  embarrassment  \n",
      "0   NaN        NaN     NaN      NaN            NaN  \n",
      "1   NaN        NaN     NaN      NaN            NaN  \n",
      "2   NaN        NaN     NaN      NaN            NaN  \n",
      "3   NaN        NaN     NaN      NaN            NaN  \n",
      "4   NaN        NaN     NaN      NaN            NaN  \n",
      "5   NaN        NaN     NaN      NaN            NaN  \n",
      "6   NaN        NaN     NaN      NaN            NaN  \n",
      "7   NaN        NaN     NaN      NaN            NaN  \n",
      "8   NaN        NaN     NaN      NaN            NaN  \n",
      "9   NaN        NaN     NaN      NaN            NaN  \n",
      "\n",
      "[10 rows x 33 columns]\n"
     ]
    }
   ],
   "source": [
    "for i, row in table.iterrows():\n",
    "    emotion_counts = getScores(row[\"content\"])\n",
    "    # print(emotion_counts)\n",
    "    for emotion in emotion_counts.keys():\n",
    "        table.loc[i, emotion] = emotion_counts[emotion]\n",
    "        # print(row)\n",
    "print(table.head(10))\n",
    "# print(table.head(10).columns)"
   ],
   "metadata": {
    "collapsed": false,
    "ExecuteTime": {
     "end_time": "2024-03-03T21:34:11.551652Z",
     "start_time": "2024-03-03T20:47:26.609382Z"
    }
   },
   "id": "e8cdc61cd24fa2bf",
   "execution_count": 308
  },
  {
   "cell_type": "code",
   "outputs": [],
   "source": [
    "table.fillna(0.0, inplace=True)"
   ],
   "metadata": {
    "collapsed": false,
    "ExecuteTime": {
     "end_time": "2024-03-03T21:34:11.555194Z",
     "start_time": "2024-03-03T21:34:11.552553Z"
    }
   },
   "id": "7caa9c85eafc0dc2",
   "execution_count": 309
  },
  {
   "cell_type": "code",
   "outputs": [],
   "source": [
    "table.to_csv(\"./data/\"+name +\"_scored.csv\")"
   ],
   "metadata": {
    "collapsed": false,
    "ExecuteTime": {
     "end_time": "2024-03-03T21:34:11.683554Z",
     "start_time": "2024-03-03T21:34:11.556150Z"
    }
   },
   "id": "d6f1198090d0b815",
   "execution_count": 310
  }
 ],
 "metadata": {
  "kernelspec": {
   "display_name": "Python 3",
   "language": "python",
   "name": "python3"
  },
  "language_info": {
   "codemirror_mode": {
    "name": "ipython",
    "version": 2
   },
   "file_extension": ".py",
   "mimetype": "text/x-python",
   "name": "python",
   "nbconvert_exporter": "python",
   "pygments_lexer": "ipython2",
   "version": "2.7.6"
  }
 },
 "nbformat": 4,
 "nbformat_minor": 5
}
